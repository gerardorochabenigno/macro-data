{
 "cells": [
  {
   "cell_type": "code",
   "execution_count": 5,
   "metadata": {},
   "outputs": [
    {
     "data": {
      "text/plain": [
       "True"
      ]
     },
     "execution_count": 5,
     "metadata": {},
     "output_type": "execute_result"
    }
   ],
   "source": [
    "import pandas as pd\n",
    "import requests\n",
    "import os\n",
    "from dotenv import load_dotenv\n",
    "from datetime import datetime\n",
    "import json\n",
    "from src.connector import FREDConnector, INEGIConnector\n",
    "from typing import Any\n",
    "load_dotenv()"
   ]
  },
  {
   "cell_type": "code",
   "execution_count": null,
   "metadata": {},
   "outputs": [
    {
     "data": {
      "application/vnd.microsoft.datawrangler.viewer.v0+json": {
       "columns": [
        {
         "name": "date",
         "rawType": "object",
         "type": "string"
        },
        {
         "name": "737121",
         "rawType": "float64",
         "type": "float"
        },
        {
         "name": "737219",
         "rawType": "float64",
         "type": "float"
        }
       ],
       "ref": "1e4305ef-7bf1-4454-ba74-c56130bc6716",
       "rows": [
        [
         "2000-01-01",
         "71.985137421474",
         "73.639568943648"
        ],
        [
         "2000-02-01",
         "72.253366967609",
         "73.176290567875"
        ],
        [
         "2000-03-01",
         "74.651021497352",
         "73.114724002909"
        ],
        [
         "2000-04-01",
         "71.374764549228",
         "73.239721771284"
        ],
        [
         "2000-05-01",
         "75.420777198039",
         "73.81561881883"
        ],
        [
         "2000-06-01",
         "74.949757528964",
         "74.349544702584"
        ],
        [
         "2000-07-01",
         "74.032752813777",
         "74.782666621056"
        ],
        [
         "2000-08-01",
         "74.842659867829",
         "74.338354250471"
        ],
        [
         "2000-09-01",
         "75.716597665258",
         "74.330341249035"
        ],
        [
         "2000-10-01",
         "74.41418954109",
         "74.391329215547"
        ],
        [
         "2000-11-01",
         "74.316520785892",
         "74.190589506717"
        ],
        [
         "2000-12-01",
         "73.079126865538",
         "73.484464450927"
        ],
        [
         "2001-01-01",
         "73.603772396536",
         "74.187793886091"
        ],
        [
         "2001-02-01",
         "71.051256382212",
         "73.580297614782"
        ],
        [
         "2001-03-01",
         "74.403879789003",
         "73.415892519065"
        ],
        [
         "2001-04-01",
         "71.922989421342",
         "73.283964097776"
        ],
        [
         "2001-05-01",
         "74.855359717282",
         "73.154568826576"
        ],
        [
         "2001-06-01",
         "73.787976137577",
         "73.246853806297"
        ],
        [
         "2001-07-01",
         "72.888809742543",
         "73.094435757142"
        ],
        [
         "2001-08-01",
         "74.038726823802",
         "73.530688334704"
        ],
        [
         "2001-09-01",
         "73.816574170422",
         "73.401182283379"
        ],
        [
         "2001-10-01",
         "73.412852150405",
         "72.60292012135"
        ],
        [
         "2001-11-01",
         "73.048046895127",
         "72.863423569393"
        ],
        [
         "2001-12-01",
         "72.288312088951",
         "72.724497326564"
        ],
        [
         "2002-01-01",
         "71.112734477096",
         "71.811233791807"
        ],
        [
         "2002-02-01",
         "68.96655472816",
         "71.759677870096"
        ],
        [
         "2002-03-01",
         "70.535946879972",
         "72.349198951241"
        ],
        [
         "2002-04-01",
         "74.858038086775",
         "72.913763913675"
        ],
        [
         "2002-05-01",
         "74.712776096212",
         "72.984361924096"
        ],
        [
         "2002-06-01",
         "72.863379843811",
         "72.904521389264"
        ],
        [
         "2002-07-01",
         "73.619611596159",
         "73.216997227794"
        ],
        [
         "2002-08-01",
         "73.891727114017",
         "73.790604599268"
        ],
        [
         "2002-09-01",
         "73.956599931566",
         "73.619912963241"
        ],
        [
         "2002-10-01",
         "74.951192521606",
         "73.94771211254"
        ],
        [
         "2002-11-01",
         "73.359600857648",
         "73.520003196408"
        ],
        [
         "2002-12-01",
         "73.873536808291",
         "73.537150933242"
        ],
        [
         "2003-01-01",
         "72.570800210947",
         "73.529664662687"
        ],
        [
         "2003-02-01",
         "70.941246035738",
         "73.953026706872"
        ],
        [
         "2003-03-01",
         "73.522296486311",
         "73.42237222329"
        ],
        [
         "2003-04-01",
         "73.556142425818",
         "73.503006011846"
        ],
        [
         "2003-05-01",
         "74.759866432207",
         "73.281995800998"
        ],
        [
         "2003-06-01",
         "74.308724446573",
         "73.903707493244"
        ],
        [
         "2003-07-01",
         "74.207327714342",
         "73.905951401171"
        ],
        [
         "2003-08-01",
         "72.618939738111",
         "73.230096839393"
        ],
        [
         "2003-09-01",
         "74.302477579568",
         "73.442059145422"
        ],
        [
         "2003-10-01",
         "74.775799788387",
         "73.766968270284"
        ],
        [
         "2003-11-01",
         "72.965023310119",
         "73.887126906532"
        ],
        [
         "2003-12-01",
         "76.157523369149",
         "74.790594690257"
        ],
        [
         "2004-01-01",
         "73.610181304196",
         "75.118170225484"
        ],
        [
         "2004-02-01",
         "72.557269622152",
         "75.368433820268"
        ]
       ],
       "shape": {
        "columns": 2,
        "rows": 306
       }
      },
      "text/html": [
       "<div>\n",
       "<style scoped>\n",
       "    .dataframe tbody tr th:only-of-type {\n",
       "        vertical-align: middle;\n",
       "    }\n",
       "\n",
       "    .dataframe tbody tr th {\n",
       "        vertical-align: top;\n",
       "    }\n",
       "\n",
       "    .dataframe thead th {\n",
       "        text-align: right;\n",
       "    }\n",
       "</style>\n",
       "<table border=\"1\" class=\"dataframe\">\n",
       "  <thead>\n",
       "    <tr style=\"text-align: right;\">\n",
       "      <th></th>\n",
       "      <th>737121</th>\n",
       "      <th>737219</th>\n",
       "    </tr>\n",
       "    <tr>\n",
       "      <th>date</th>\n",
       "      <th></th>\n",
       "      <th></th>\n",
       "    </tr>\n",
       "  </thead>\n",
       "  <tbody>\n",
       "    <tr>\n",
       "      <th>2000-01-01</th>\n",
       "      <td>71.985137</td>\n",
       "      <td>73.639569</td>\n",
       "    </tr>\n",
       "    <tr>\n",
       "      <th>2000-02-01</th>\n",
       "      <td>72.253367</td>\n",
       "      <td>73.176291</td>\n",
       "    </tr>\n",
       "    <tr>\n",
       "      <th>2000-03-01</th>\n",
       "      <td>74.651021</td>\n",
       "      <td>73.114724</td>\n",
       "    </tr>\n",
       "    <tr>\n",
       "      <th>2000-04-01</th>\n",
       "      <td>71.374765</td>\n",
       "      <td>73.239722</td>\n",
       "    </tr>\n",
       "    <tr>\n",
       "      <th>2000-05-01</th>\n",
       "      <td>75.420777</td>\n",
       "      <td>73.815619</td>\n",
       "    </tr>\n",
       "    <tr>\n",
       "      <th>...</th>\n",
       "      <td>...</td>\n",
       "      <td>...</td>\n",
       "    </tr>\n",
       "    <tr>\n",
       "      <th>2025-02-01</th>\n",
       "      <td>100.522395</td>\n",
       "      <td>105.250919</td>\n",
       "    </tr>\n",
       "    <tr>\n",
       "      <th>2025-03-01</th>\n",
       "      <td>105.557791</td>\n",
       "      <td>105.030862</td>\n",
       "    </tr>\n",
       "    <tr>\n",
       "      <th>2025-04-01</th>\n",
       "      <td>104.159225</td>\n",
       "      <td>105.518981</td>\n",
       "    </tr>\n",
       "    <tr>\n",
       "      <th>2025-05-01</th>\n",
       "      <td>107.920457</td>\n",
       "      <td>105.588093</td>\n",
       "    </tr>\n",
       "    <tr>\n",
       "      <th>2025-06-01</th>\n",
       "      <td>105.279723</td>\n",
       "      <td>105.823190</td>\n",
       "    </tr>\n",
       "  </tbody>\n",
       "</table>\n",
       "<p>306 rows × 2 columns</p>\n",
       "</div>"
      ],
      "text/plain": [
       "                737121      737219\n",
       "date                              \n",
       "2000-01-01   71.985137   73.639569\n",
       "2000-02-01   72.253367   73.176291\n",
       "2000-03-01   74.651021   73.114724\n",
       "2000-04-01   71.374765   73.239722\n",
       "2000-05-01   75.420777   73.815619\n",
       "...                ...         ...\n",
       "2025-02-01  100.522395  105.250919\n",
       "2025-03-01  105.557791  105.030862\n",
       "2025-04-01  104.159225  105.518981\n",
       "2025-05-01  107.920457  105.588093\n",
       "2025-06-01  105.279723  105.823190\n",
       "\n",
       "[306 rows x 2 columns]"
      ]
     },
     "execution_count": 32,
     "metadata": {},
     "output_type": "execute_result"
    }
   ],
   "source": [
    "class DataLoader:\n",
    "\n",
    "    @staticmethod\n",
    "    def carga_local(path:str) -> pd.DataFrame: # En este momento la carga solo es de datos mensuales, después se agregaran\n",
    "        return pd.read_csv(path, encoding='utf-8', parse_dates=['date'])\n",
    "\n",
    "class ChartDataPreprocessor:\n",
    "\n",
    "    \"\"\"\n",
    "    Clase para cargar (local y de AWS), y preprocesar los datos que se mostrarán en las gráficas de dash.\n",
    "    \"\"\"\n",
    "\n",
    "    def __init__(self, config): # Agregar más adelante las variables de entorno de AWS\n",
    "        self.config = config\n",
    "\n",
    "    @staticmethod\n",
    "    def serie_igae_preprocessor():\n",
    "        data_loader = DataLoader()\n",
    "        igae_data = [data_loader.carga_local('data/inegi/csv/737121.csv'),\n",
    "                     data_loader.carga_local('data/inegi/csv/737219.csv')]\n",
    "        igae_df = pd.merge(igae_data[0], igae_data[1], how='inner', on='date')\n",
    "        igae_df = igae_df.loc[igae_df['date']>='2000-01-01']\n",
    "        igae_df.set_index('date', inplace=True)\n",
    "\n",
    "        return igae_df\n",
    "\n",
    "chart_prep = ChartDataPreprocessor('config')\n",
    "igae_data = chart_prep.serie_igae_preprocessor()\n",
    "\n",
    "igae_data"
   ]
  },
  {
   "cell_type": "code",
   "execution_count": null,
   "metadata": {},
   "outputs": [],
   "source": []
  }
 ],
 "metadata": {
  "kernelspec": {
   "display_name": "macro_dashboard",
   "language": "python",
   "name": "python3"
  },
  "language_info": {
   "codemirror_mode": {
    "name": "ipython",
    "version": 3
   },
   "file_extension": ".py",
   "mimetype": "text/x-python",
   "name": "python",
   "nbconvert_exporter": "python",
   "pygments_lexer": "ipython3",
   "version": "3.11.13"
  }
 },
 "nbformat": 4,
 "nbformat_minor": 2
}
